{
 "cells": [
  {
   "cell_type": "code",
   "execution_count": 1,
   "id": "649f6bb3",
   "metadata": {},
   "outputs": [],
   "source": [
    "import pandas as pd\n",
    "import numpy as np\n",
    "from sklearn import metrics\n",
    "import matplotlib.pyplot as plt\n",
    "import seaborn as sns\n",
    "%matplotlib inline"
   ]
  },
  {
   "cell_type": "code",
   "execution_count": 2,
   "id": "3f2c86e6",
   "metadata": {},
   "outputs": [],
   "source": [
    "import nltk\n",
    "from nltk.chat.util import Chat, reflections"
   ]
  },
  {
   "cell_type": "code",
   "execution_count": 3,
   "id": "8e32af81",
   "metadata": {},
   "outputs": [],
   "source": [
    "pairs = [\n",
    "    [\n",
    "        r\"my name is (.*)| I am (.*)\",\n",
    "        [\"Mr.Echo:\\tHello %1\",]\n",
    "    ],\n",
    "    [\n",
    "        r\"what is your name?|name\",\n",
    "        [\"Mr.Echo:\\tMy name is Mr.Echo\\U0001f648\\n\\tWhat's your Name?\"]\n",
    "    ],\n",
    "    [\n",
    "        r\"how are you?|how you doing?|what's up?\",\n",
    "        [\"Mr.Echo:\\tI'm doing good\\nMr.Echo: How about You ?\",\"Mr.Echo:\\tI'm doing great\\n\\tHow about You ?\"]\n",
    "    ],\n",
    "    [\n",
    "        r\"Thanks|Thank you|thank u\",\n",
    "        [\"Mr.Echo:\\tHehe\",\"Mr.Echo:\\twelcome\", \"Mr.Echo:\\talright\",\"Mr.Echo:\\t\\U0001f607\"]\n",
    "    ],\n",
    "    [\n",
    "        r\"sorry\",\n",
    "        [\"Mr.Echo:\\tIts alright\",\"Mr.Echo:\\tIts OK, never mind\\U0001f917\"]\n",
    "    ],\n",
    "    [\n",
    "        r\"Do (.*) love me ?\",\n",
    "        [\"Mr.Echo:\\tYes, I love you but as a friend \\U0001f643\"]\n",
    "    ],\n",
    "    [\n",
    "        r\"i am doing good|fine|good|great\",\n",
    "        [\"Mr.Echo:\\tNice to hear that\",\"Mr.Echo:\\tAlright :)\"]\n",
    "    ],\n",
    "    [\n",
    "        r\"hi|hey|hello\",\n",
    "        [\"Mr.Echo:\\tHello\", \"Mr.Echo:\\tHey there\",\"Mr.Echo:\\thii\",\"Mr.Echo:\\tHieeee\"]\n",
    "    ],\n",
    "    [\n",
    "        r\"what is (.*) age?|age\",\n",
    "        [\"Mr.Echo:\\tI'm a computer program dude\\n\\tSeriously you are asking me this?\\U0001f644\"]\n",
    "    ],\n",
    "    [\n",
    "        r\"what do (.*) want ?\",\n",
    "        [\"Mr.Echo:\\tMake me an offer I can't refuse\\U0001f61C\",]\n",
    "    ],\n",
    "    [\n",
    "        r\"who created (.*) ?\",\n",
    "        [\"Mr.Echo:\\t Sharan has created me\\U0001f60E\"]\n",
    "    ],\n",
    "    [\n",
    "        r\"what is (.*) (location|city) ?\",\n",
    "        ['Mr.Echo:\\tPanvel, Maharashtra']\n",
    "    ],\n",
    "    [\n",
    "        r\"how is weather in (.*)?\",\n",
    "        [\"Mr.Echo:\\tWeather in %1 is awesome like always\\U0001f929\",\"Mr.Echo:\\tit's too cold here\\U0001f976\"]\n",
    "    ],\n",
    "    [\n",
    "        r\"i study in (.*)?\",\n",
    "        [\"Mr.Echo:\\t%1?,I have to see about it\",]\n",
    "    ],\n",
    "    [\n",
    "        r\"is there raining in (.*)| raining?\",\n",
    "        [\"Mr.Echo:\\tNo rain since last week here in %2\",\"Mr.Echo:\\tDamn its raining too much here in %2\"]\n",
    "    ],\n",
    "    [\n",
    "        r\"how is (.*) health\",\n",
    "        [\"Mr.Echo:\\tI'm a computer program, so I'm always healthy \",]\n",
    "    ],\n",
    "    [\n",
    "        r\"what is (.*) favourite (sports|game)| favourite (sports|game)|(sports|game) ?\",\n",
    "        [\"Mr.Echo:\\tI'm a very big fan of Cricket\", 'Mr.Echo:\\tI love Cricket very much']\n",
    "    ],\n",
    "    [\n",
    "        r\"who is (.*) favourite (sportsperson|player) ?| favourite (sportsperson|player|sportperson)|(sportsperson|player|sportperson)\",\n",
    "        [\"Mr.Echo:\\tVirat Kohli\",\"Mr.Echo:\\tAB De Villiers\",\"Mr.Echo:\\tMS Dhoni\"]\n",
    "    ],\n",
    "    [\n",
    "        r\"who is (.*) favourite (moviestar|actor)?| favourite (moviestar|actor)|(moviestar|actor)\",\n",
    "        [\"Mr.Echo:\\tSharukh Khan\"]\n",
    "    ],\n",
    "    [\n",
    "        r\"quit|bye|see you|c u\",\n",
    "        [\"Mr.Echo:\\tBBye take care. See you soon :) \",\"Mr.Echo:\\tIt was nice talking to you. See you soon :)\"]\n",
    "    ],\n",
    "]"
   ]
  },
  {
   "cell_type": "code",
   "execution_count": null,
   "id": "d364e3a8-5607-4d02-b044-6d7c42af7fba",
   "metadata": {},
   "outputs": [
    {
     "name": "stdout",
     "output_type": "stream",
     "text": [
      "Hi, I'm Mr.Echo and I like to chat alot :) \n",
      "Please type lowercase English language to start a conversation. Type quit to leave \n"
     ]
    },
    {
     "name": "stdin",
     "output_type": "stream",
     "text": [
      "> my name is Sharan\n"
     ]
    },
    {
     "name": "stdout",
     "output_type": "stream",
     "text": [
      "Mr.Echo:\tHello sharan\n"
     ]
    },
    {
     "name": "stdin",
     "output_type": "stream",
     "text": [
      "> WHat is your name\n"
     ]
    },
    {
     "name": "stdout",
     "output_type": "stream",
     "text": [
      "Mr.Echo:\tMy name is Mr.Echo🙈\n",
      "\tWhat's your Name?\n"
     ]
    },
    {
     "name": "stdin",
     "output_type": "stream",
     "text": [
      "> How you doing\n"
     ]
    },
    {
     "name": "stdout",
     "output_type": "stream",
     "text": [
      "Mr.Echo:\tI'm doing good\n",
      "Mr.Echo: How about You ?\n"
     ]
    },
    {
     "name": "stdin",
     "output_type": "stream",
     "text": [
      "> Great\n"
     ]
    },
    {
     "name": "stdout",
     "output_type": "stream",
     "text": [
      "Mr.Echo:\tNice to hear that\n"
     ]
    },
    {
     "name": "stdin",
     "output_type": "stream",
     "text": [
      "> What is your age\n"
     ]
    },
    {
     "name": "stdout",
     "output_type": "stream",
     "text": [
      "Mr.Echo:\tI'm a computer program dude\n",
      "\tSeriously you are asking me this?🙄\n"
     ]
    },
    {
     "name": "stdin",
     "output_type": "stream",
     "text": [
      "> How is your health\n"
     ]
    },
    {
     "name": "stdout",
     "output_type": "stream",
     "text": [
      "Mr.Echo:\tI'm a computer program, so I'm always healthy \n"
     ]
    },
    {
     "name": "stdin",
     "output_type": "stream",
     "text": [
      "> i work in CHM\n"
     ]
    },
    {
     "name": "stdout",
     "output_type": "stream",
     "text": [
      "Mr.Echo:\tchm?,I have not heard about it\n"
     ]
    }
   ],
   "source": [
    "def bott():\n",
    "    print(\"Hi, I'm Mr.Echo and I like to chat alot :) \\nPlease type lowercase English language to start a conversation. Type quit to leave \") \n",
    "    chat = Chat(pairs, reflections)\n",
    "    chat.converse()\n",
    "    print(\"\\n\")\n",
    "if __name__ == \"__main__\":\n",
    "    bott()"
   ]
  },
  {
   "cell_type": "code",
   "execution_count": null,
   "id": "fff0935b-f4cf-48cf-a286-5b15851e134a",
   "metadata": {},
   "outputs": [],
   "source": []
  }
 ],
 "metadata": {
  "kernelspec": {
   "display_name": "Python 3 (ipykernel)",
   "language": "python",
   "name": "python3"
  },
  "language_info": {
   "codemirror_mode": {
    "name": "ipython",
    "version": 3
   },
   "file_extension": ".py",
   "mimetype": "text/x-python",
   "name": "python",
   "nbconvert_exporter": "python",
   "pygments_lexer": "ipython3",
   "version": "3.11.4"
  },
  "vscode": {
   "interpreter": {
    "hash": "b63751119a2788ea12a1e5a12c05468652a10496e9046d2a1cc4c188307279c3"
   }
  }
 },
 "nbformat": 4,
 "nbformat_minor": 5
}
